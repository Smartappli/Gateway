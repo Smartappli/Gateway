{
  "nbformat": 4,
  "nbformat_minor": 0,
  "metadata": {
    "colab": {
      "name": "2009.ipynb",
      "version": "0.3.2",
      "provenance": [],
      "collapsed_sections": [],
      "include_colab_link": true
    },
    "kernelspec": {
      "name": "python3",
      "display_name": "Python 3"
    },
    "accelerator": "GPU"
  },
  "cells": [
    {
      "cell_type": "markdown",
      "metadata": {
        "id": "view-in-github",
        "colab_type": "text"
      },
      "source": [
        "[View in Colaboratory](https://colab.research.google.com/github/Smartappli/Gateway/blob/master/2011.ipynb)"
      ]
    },
    {
      "metadata": {
        "id": "WXeyFlwU764G",
        "colab_type": "code",
        "colab": {
          "base_uri": "https://localhost:8080/",
          "height": 306
        },
        "outputId": "612e99e5-16f5-438d-f61d-f16cfff1fe5d"
      },
      "cell_type": "code",
      "source": [
        "!/opt/bin/nvidia-smi"
      ],
      "execution_count": 1,
      "outputs": [
        {
          "output_type": "stream",
          "text": [
            "Sun Sep 23 18:39:48 2018       \n",
            "+-----------------------------------------------------------------------------+\n",
            "| NVIDIA-SMI 384.111                Driver Version: 384.111                   |\n",
            "|-------------------------------+----------------------+----------------------+\n",
            "| GPU  Name        Persistence-M| Bus-Id        Disp.A | Volatile Uncorr. ECC |\n",
            "| Fan  Temp  Perf  Pwr:Usage/Cap|         Memory-Usage | GPU-Util  Compute M. |\n",
            "|===============================+======================+======================|\n",
            "|   0  Tesla K80           Off  | 00000000:00:04.0 Off |                    0 |\n",
            "| N/A   29C    P8    28W / 149W |      0MiB / 11439MiB |      0%      Default |\n",
            "+-------------------------------+----------------------+----------------------+\n",
            "                                                                               \n",
            "+-----------------------------------------------------------------------------+\n",
            "| Processes:                                                       GPU Memory |\n",
            "|  GPU       PID   Type   Process name                             Usage      |\n",
            "|=============================================================================|\n",
            "|  No running processes found                                                 |\n",
            "+-----------------------------------------------------------------------------+\n"
          ],
          "name": "stdout"
        }
      ]
    },
    {
      "metadata": {
        "id": "7_wGDia1VX0E",
        "colab_type": "text"
      },
      "cell_type": "markdown",
      "source": [
        "Ci-dessous, le premier classifieur \n",
        "\n",
        "Variante pour l'exercice ci-dessus : essayer avec Ronaldo plutôt que Messi (/10)\n",
        "\n",
        "---\n",
        "\n"
      ]
    },
    {
      "metadata": {
        "id": "Ac2AfR6TKA_X",
        "colab_type": "code",
        "colab": {
          "base_uri": "https://localhost:8080/",
          "height": 34
        },
        "outputId": "8df5eb2e-92bc-472c-d1c3-7589ce67ed4d"
      },
      "cell_type": "code",
      "source": [
        "from keras.models import Sequential\n",
        "from keras.layers import Dense, Activation\n",
        "from keras.utils import np_utils"
      ],
      "execution_count": 2,
      "outputs": [
        {
          "output_type": "stream",
          "text": [
            "Using TensorFlow backend.\n"
          ],
          "name": "stderr"
        }
      ]
    },
    {
      "metadata": {
        "id": "jxddsUQiLxZ0",
        "colab_type": "code",
        "colab": {}
      },
      "cell_type": "code",
      "source": [
        "import numpy as np\n",
        "np.random.seed(42)"
      ],
      "execution_count": 0,
      "outputs": []
    },
    {
      "metadata": {
        "id": "8WHT920LL4aP",
        "colab_type": "code",
        "colab": {}
      },
      "cell_type": "code",
      "source": [
        "from keras.datasets import mnist"
      ],
      "execution_count": 0,
      "outputs": []
    },
    {
      "metadata": {
        "id": "25qqqrk9L9am",
        "colab_type": "code",
        "colab": {
          "base_uri": "https://localhost:8080/",
          "height": 51
        },
        "outputId": "c3d1b979-ccc4-4a14-fd9a-514f99b5ee13"
      },
      "cell_type": "code",
      "source": [
        "(x_train, y_train), (x_test, y_test)=mnist.load_data()"
      ],
      "execution_count": 5,
      "outputs": [
        {
          "output_type": "stream",
          "text": [
            "Downloading data from https://s3.amazonaws.com/img-datasets/mnist.npz\n",
            "11493376/11490434 [==============================] - 8s 1us/step\n"
          ],
          "name": "stdout"
        }
      ]
    },
    {
      "metadata": {
        "id": "pvAyQ2-QMJG_",
        "colab_type": "code",
        "colab": {
          "base_uri": "https://localhost:8080/",
          "height": 51
        },
        "outputId": "efbd1b59-80c0-4789-9f43-59fa3a7a62ae"
      },
      "cell_type": "code",
      "source": [
        "print (x_train.shape)\n",
        "print (y_train.shape)"
      ],
      "execution_count": 6,
      "outputs": [
        {
          "output_type": "stream",
          "text": [
            "(60000, 28, 28)\n",
            "(60000,)\n"
          ],
          "name": "stdout"
        }
      ]
    },
    {
      "metadata": {
        "id": "q2OpVjZNMXSi",
        "colab_type": "code",
        "colab": {}
      },
      "cell_type": "code",
      "source": [
        "x_train=x_train.reshape (x_train.shape[0], x_train.shape[1]*x_train.shape[2])\n",
        "x_test=x_test.reshape (x_test.shape[0], x_test.shape[1]*x_test.shape[2])"
      ],
      "execution_count": 0,
      "outputs": []
    },
    {
      "metadata": {
        "id": "qkBgBaemM0eZ",
        "colab_type": "code",
        "colab": {}
      },
      "cell_type": "code",
      "source": [
        "x_train=x_train.astype('float64')/255\n",
        "x_test=x_test.astype('float64')/255"
      ],
      "execution_count": 0,
      "outputs": []
    },
    {
      "metadata": {
        "id": "95Cr30oiNu88",
        "colab_type": "code",
        "colab": {
          "base_uri": "https://localhost:8080/",
          "height": 34
        },
        "outputId": "121d0425-6f61-413d-bc23-405d43ae14ce"
      },
      "cell_type": "code",
      "source": [
        "print (y_test)"
      ],
      "execution_count": 9,
      "outputs": [
        {
          "output_type": "stream",
          "text": [
            "[7 2 1 ... 4 5 6]\n"
          ],
          "name": "stdout"
        }
      ]
    },
    {
      "metadata": {
        "id": "ITV-XPMENb4-",
        "colab_type": "code",
        "colab": {
          "base_uri": "https://localhost:8080/",
          "height": 136
        },
        "outputId": "87987e76-34a7-4754-eb29-3db9731ebd5e"
      },
      "cell_type": "code",
      "source": [
        "nb_classes=10\n",
        "y_train=np_utils.to_categorical(y_train,nb_classes)\n",
        "y_test=np_utils.to_categorical(y_test,nb_classes)\n",
        "print (y_test)"
      ],
      "execution_count": 10,
      "outputs": [
        {
          "output_type": "stream",
          "text": [
            "[[0. 0. 0. ... 1. 0. 0.]\n",
            " [0. 0. 1. ... 0. 0. 0.]\n",
            " [0. 1. 0. ... 0. 0. 0.]\n",
            " ...\n",
            " [0. 0. 0. ... 0. 0. 0.]\n",
            " [0. 0. 0. ... 0. 0. 0.]\n",
            " [0. 0. 0. ... 0. 0. 0.]]\n"
          ],
          "name": "stdout"
        }
      ]
    },
    {
      "metadata": {
        "id": "SXFlsVLnN3gM",
        "colab_type": "code",
        "colab": {
          "base_uri": "https://localhost:8080/",
          "height": 102
        },
        "outputId": "4f8fadfa-d732-49b4-a188-401db16b5ab7"
      },
      "cell_type": "code",
      "source": [
        "print (x_train.shape)\n",
        "from sklearn.model_selection import train_test_split\n",
        "# take validation set\n",
        "trainX, validX, trainY, validY=train_test_split(x_train, y_train, test_size=0.33, random_state=42) # same random_state than seed above\n",
        "print (trainX.shape)\n",
        "print (validX.shape)\n",
        "print (trainY.shape)\n",
        "print (validY.shape)\n",
        "\n"
      ],
      "execution_count": 11,
      "outputs": [
        {
          "output_type": "stream",
          "text": [
            "(60000, 784)\n",
            "(40200, 784)\n",
            "(19800, 784)\n",
            "(40200, 10)\n",
            "(19800, 10)\n"
          ],
          "name": "stdout"
        }
      ]
    },
    {
      "metadata": {
        "id": "tSKDsUwoV4LK",
        "colab_type": "code",
        "colab": {}
      },
      "cell_type": "code",
      "source": [
        "from keras.layers import Dropout\n",
        "from keras.callbacks import EarlyStopping\n",
        "model=Sequential()\n",
        "earlystop = EarlyStopping(monitor='val_acc', min_delta=0.001, patience=5, verbose=1, mode='auto')\n",
        "callbacks_list = [earlystop]\n",
        "# first layer, always precise input_dim\n",
        "model.add (Dense(100,input_dim=trainX.shape[1], activation='elu'))\n",
        "# le dropout permet de \"désactiver\" aléatoirement un certain pourcentage de neurones de la couche précédente à chaque epoch, l'objectif étant une meilleure généralization\n",
        "model.add (Dropout (0.20))\n",
        "model.add (Dense(100, activation='relu'))\n",
        "model.add (Dropout (0.15))\n",
        "model.add (Dense(100, activation='relu'))\n",
        "model.add (Dropout (0.10))\n",
        "# last layer, 10 neurons (obligé)\n",
        "model.add(Dense(nb_classes, activation='softmax'))\n"
      ],
      "execution_count": 0,
      "outputs": []
    },
    {
      "metadata": {
        "id": "wQA4j268O__l",
        "colab_type": "code",
        "colab": {
          "base_uri": "https://localhost:8080/",
          "height": 1700
        },
        "outputId": "b22fa591-0390-40a3-d3e5-4ed31f36b0c5"
      },
      "cell_type": "code",
      "source": [
        "earlystop = EarlyStopping(monitor='val_acc', min_delta=0.001, patience=5, verbose=1, mode='auto')\n",
        "callbacks_list = [earlystop]\n",
        "# early stopping permet de s'arrêter dès que l'erreur validation ne diminue plus (après \"patience\" itérations)\n",
        "import matplotlib.pyplot as plt \n",
        "model.compile(loss='categorical_crossentropy', optimizer='adam', metrics=['accuracy'])\n",
        "print (model.summary())\n",
        "history=model.fit(trainX, trainY,validation_data=(validX, validY), callbacks=callbacks_list,  epochs=100) #validation_data=(validX, validY), callbacks=callbacks_list\n",
        "plt.plot(history.history['acc'])\n",
        "plt.plot(history.history['val_acc'])\n",
        "plt.title('model accuracy')\n",
        "plt.ylabel('accuracy')\n",
        "plt.xlabel('epoch')\n",
        "plt.legend(['train', 'valid'], loc='upper left')\n",
        "plt.show()\n",
        "\n",
        "train_accuracy=model.evaluate(trainX, trainY)[1]\n",
        "print (\"Train accuracy = \", train_accuracy)\n",
        "valid_accuracy=model.evaluate(validX, validY)[1]\n",
        "print (\"Valid accuracy = \", valid_accuracy)\n",
        "test_accuracy=model.evaluate(x_test, y_test)[1]\n",
        "print (\"Test accuracy = \", test_accuracy)\n",
        "\n"
      ],
      "execution_count": 0,
      "outputs": [
        {
          "output_type": "stream",
          "text": [
            "_________________________________________________________________\n",
            "Layer (type)                 Output Shape              Param #   \n",
            "=================================================================\n",
            "dense_1 (Dense)              (None, 100)               78500     \n",
            "_________________________________________________________________\n",
            "dropout_1 (Dropout)          (None, 100)               0         \n",
            "_________________________________________________________________\n",
            "dense_2 (Dense)              (None, 100)               10100     \n",
            "_________________________________________________________________\n",
            "dropout_2 (Dropout)          (None, 100)               0         \n",
            "_________________________________________________________________\n",
            "dense_3 (Dense)              (None, 100)               10100     \n",
            "_________________________________________________________________\n",
            "dropout_3 (Dropout)          (None, 100)               0         \n",
            "_________________________________________________________________\n",
            "dense_4 (Dense)              (None, 10)                1010      \n",
            "=================================================================\n",
            "Total params: 99,710\n",
            "Trainable params: 99,710\n",
            "Non-trainable params: 0\n",
            "_________________________________________________________________\n",
            "None\n",
            "Train on 40200 samples, validate on 19800 samples\n",
            "Epoch 1/100\n",
            "40200/40200 [==============================] - 9s 229us/step - loss: 0.9902 - acc: 0.6938 - val_loss: 0.4067 - val_acc: 0.8815\n",
            "Epoch 2/100\n",
            "40200/40200 [==============================] - 8s 204us/step - loss: 0.4456 - acc: 0.8662 - val_loss: 0.3066 - val_acc: 0.9093\n",
            "Epoch 3/100\n",
            "40200/40200 [==============================] - 8s 203us/step - loss: 0.3658 - acc: 0.8901 - val_loss: 0.2571 - val_acc: 0.9234\n",
            "Epoch 4/100\n",
            "40200/40200 [==============================] - 8s 203us/step - loss: 0.3227 - acc: 0.9014 - val_loss: 0.2311 - val_acc: 0.9293\n",
            "Epoch 5/100\n",
            "40200/40200 [==============================] - 8s 204us/step - loss: 0.2978 - acc: 0.9113 - val_loss: 0.2131 - val_acc: 0.9346\n",
            "Epoch 6/100\n",
            "40200/40200 [==============================] - 8s 204us/step - loss: 0.2738 - acc: 0.9179 - val_loss: 0.1971 - val_acc: 0.9395\n",
            "Epoch 7/100\n",
            "40200/40200 [==============================] - 8s 205us/step - loss: 0.2561 - acc: 0.9230 - val_loss: 0.1861 - val_acc: 0.9421\n",
            "Epoch 8/100\n",
            "40200/40200 [==============================] - 8s 203us/step - loss: 0.2367 - acc: 0.9279 - val_loss: 0.1777 - val_acc: 0.9460\n",
            "Epoch 9/100\n",
            "40200/40200 [==============================] - 8s 203us/step - loss: 0.2258 - acc: 0.9306 - val_loss: 0.1696 - val_acc: 0.9492\n",
            "Epoch 10/100\n",
            "40200/40200 [==============================] - 8s 202us/step - loss: 0.2162 - acc: 0.9326 - val_loss: 0.1598 - val_acc: 0.9509\n",
            "Epoch 11/100\n",
            "40200/40200 [==============================] - 8s 202us/step - loss: 0.2077 - acc: 0.9355 - val_loss: 0.1559 - val_acc: 0.9531\n",
            "Epoch 12/100\n",
            "40200/40200 [==============================] - 8s 202us/step - loss: 0.1973 - acc: 0.9396 - val_loss: 0.1522 - val_acc: 0.9537\n",
            "Epoch 13/100\n",
            "40200/40200 [==============================] - 8s 204us/step - loss: 0.1906 - acc: 0.9410 - val_loss: 0.1460 - val_acc: 0.9552\n",
            "Epoch 14/100\n",
            "40200/40200 [==============================] - 8s 204us/step - loss: 0.1833 - acc: 0.9447 - val_loss: 0.1396 - val_acc: 0.9577\n",
            "Epoch 15/100\n",
            "40200/40200 [==============================] - 8s 202us/step - loss: 0.1765 - acc: 0.9463 - val_loss: 0.1338 - val_acc: 0.9591\n",
            "Epoch 16/100\n",
            "40200/40200 [==============================] - 8s 201us/step - loss: 0.1741 - acc: 0.9465 - val_loss: 0.1324 - val_acc: 0.9589\n",
            "Epoch 17/100\n",
            "40200/40200 [==============================] - 8s 206us/step - loss: 0.1663 - acc: 0.9489 - val_loss: 0.1333 - val_acc: 0.9587\n",
            "Epoch 18/100\n",
            "40200/40200 [==============================] - 8s 206us/step - loss: 0.1622 - acc: 0.9500 - val_loss: 0.1272 - val_acc: 0.9604\n",
            "Epoch 19/100\n",
            "40200/40200 [==============================] - 8s 204us/step - loss: 0.1562 - acc: 0.9517 - val_loss: 0.1248 - val_acc: 0.9616\n",
            "Epoch 20/100\n",
            "40200/40200 [==============================] - 8s 203us/step - loss: 0.1537 - acc: 0.9513 - val_loss: 0.1204 - val_acc: 0.9631\n",
            "Epoch 21/100\n",
            "40200/40200 [==============================] - 8s 204us/step - loss: 0.1508 - acc: 0.9539 - val_loss: 0.1193 - val_acc: 0.9631\n",
            "Epoch 22/100\n",
            "40200/40200 [==============================] - 8s 202us/step - loss: 0.1469 - acc: 0.9543 - val_loss: 0.1174 - val_acc: 0.9644\n",
            "Epoch 23/100\n",
            "40200/40200 [==============================] - 8s 202us/step - loss: 0.1436 - acc: 0.9559 - val_loss: 0.1145 - val_acc: 0.9635\n",
            "Epoch 24/100\n",
            "40200/40200 [==============================] - 8s 200us/step - loss: 0.1402 - acc: 0.9560 - val_loss: 0.1155 - val_acc: 0.9649\n",
            "Epoch 25/100\n",
            "40200/40200 [==============================] - 8s 201us/step - loss: 0.1352 - acc: 0.9577 - val_loss: 0.1113 - val_acc: 0.9663\n",
            "Epoch 26/100\n",
            "40200/40200 [==============================] - 8s 201us/step - loss: 0.1329 - acc: 0.9592 - val_loss: 0.1095 - val_acc: 0.9660\n",
            "Epoch 27/100\n",
            "40200/40200 [==============================] - 8s 202us/step - loss: 0.1326 - acc: 0.9597 - val_loss: 0.1083 - val_acc: 0.9672\n",
            "Epoch 28/100\n",
            "40200/40200 [==============================] - 8s 202us/step - loss: 0.1257 - acc: 0.9609 - val_loss: 0.1056 - val_acc: 0.9678\n",
            "Epoch 29/100\n",
            "40200/40200 [==============================] - 8s 204us/step - loss: 0.1232 - acc: 0.9619 - val_loss: 0.1058 - val_acc: 0.9682\n",
            "Epoch 30/100\n",
            "40200/40200 [==============================] - 8s 202us/step - loss: 0.1210 - acc: 0.9617 - val_loss: 0.1043 - val_acc: 0.9684\n",
            "Epoch 31/100\n",
            "40200/40200 [==============================] - 8s 202us/step - loss: 0.1204 - acc: 0.9621 - val_loss: 0.1022 - val_acc: 0.9688\n",
            "Epoch 32/100\n",
            "40200/40200 [==============================] - 8s 201us/step - loss: 0.1176 - acc: 0.9649 - val_loss: 0.1005 - val_acc: 0.9692\n",
            "Epoch 33/100\n",
            "40200/40200 [==============================] - 8s 201us/step - loss: 0.1182 - acc: 0.9641 - val_loss: 0.1008 - val_acc: 0.9692\n",
            "Epoch 34/100\n",
            "40200/40200 [==============================] - 8s 201us/step - loss: 0.1134 - acc: 0.9652 - val_loss: 0.0989 - val_acc: 0.9702\n",
            "Epoch 35/100\n",
            "40200/40200 [==============================] - 8s 202us/step - loss: 0.1124 - acc: 0.9647 - val_loss: 0.1001 - val_acc: 0.9701\n",
            "Epoch 36/100\n",
            "40200/40200 [==============================] - 8s 203us/step - loss: 0.1092 - acc: 0.9660 - val_loss: 0.0967 - val_acc: 0.9707\n",
            "Epoch 37/100\n",
            "40200/40200 [==============================] - 8s 202us/step - loss: 0.1096 - acc: 0.9655 - val_loss: 0.0957 - val_acc: 0.9712\n",
            "Epoch 38/100\n",
            " 3456/40200 [=>............................] - ETA: 6s - loss: 0.1162 - acc: 0.9618"
          ],
          "name": "stdout"
        }
      ]
    },
    {
      "metadata": {
        "id": "0XV2IRo1TH5x",
        "colab_type": "code",
        "colab": {
          "base_uri": "https://localhost:8080/",
          "height": 102
        },
        "outputId": "d2854bad-6228-4922-a4c1-53ac203d615f"
      },
      "cell_type": "code",
      "source": [
        "data_test=x_test[0,:]\n",
        "print (y_test[0])\n",
        "data_test=data_test.reshape(1,data_test.shape[0])\n",
        "print (data_test.shape)\n",
        "model.predict(data_test)"
      ],
      "execution_count": 14,
      "outputs": [
        {
          "output_type": "stream",
          "text": [
            "[0. 0. 0. 0. 0. 0. 0. 1. 0. 0.]\n",
            "(1, 784)\n"
          ],
          "name": "stdout"
        },
        {
          "output_type": "execute_result",
          "data": {
            "text/plain": [
              "array([[5.2269405e-07, 1.2915089e-07, 1.5542646e-05, 1.4325685e-05,\n",
              "        4.6842352e-10, 1.0775715e-06, 1.7818179e-11, 9.9994969e-01,\n",
              "        1.4881658e-07, 1.8548788e-05]], dtype=float32)"
            ]
          },
          "metadata": {
            "tags": []
          },
          "execution_count": 14
        }
      ]
    },
    {
      "metadata": {
        "id": "xX-5rvBSUhPr",
        "colab_type": "code",
        "colab": {}
      },
      "cell_type": "code",
      "source": [
        "#perspectives : CNN, LSTM (should give better results)"
      ],
      "execution_count": 0,
      "outputs": []
    },
    {
      "metadata": {
        "id": "aMHR-LEdYtb-",
        "colab_type": "code",
        "colab": {}
      },
      "cell_type": "code",
      "source": [
        ""
      ],
      "execution_count": 0,
      "outputs": []
    }
  ]
}